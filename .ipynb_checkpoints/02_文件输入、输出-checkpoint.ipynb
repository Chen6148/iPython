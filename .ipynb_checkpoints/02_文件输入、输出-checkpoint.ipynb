{
 "cells": [
  {
   "cell_type": "markdown",
   "id": "4bd14885",
   "metadata": {},
   "source": [
    "## 基于Python的数据分析\n",
    "**工具：**jupyter notebook   **第三方库：**Pandas  \n",
    "  \n",
    "**Pandas简介：**  \n",
    "- Pandas是一个开源的第三方`Python`库，从`Numpy`和`Matplotlib`的基础上构建而来，享有数据分析“三剑客之一”的盛名（`NumPy`、`Matplotlib`、`Pandas`）。\n",
    "- Pandas这个名字来源于面板数据（Panel Data）与数据分析（data analysis）这两个名词的组合；\n",
    "- Pandas 已经成为`Python`数据分析的必备高级工具，它的目标是成为强大、灵活、可以支持任何编程语言的数据分析工具。\n",
    "---\n",
    "### 导入pandas库\n",
    "由于一般都会用到numpy库，所以，我们也一起导入。"
   ]
  },
  {
   "cell_type": "code",
   "execution_count": 1,
   "id": "007700cd",
   "metadata": {},
   "outputs": [],
   "source": [
    "import pandas as pd  # 导入pandas库\n",
    "import numpy as np   # 导入numpy库"
   ]
  },
  {
   "cell_type": "markdown",
   "id": "7a9f6ad7",
   "metadata": {},
   "source": [
    "### 文件读取\n",
    ">当使用 Pandas 做数据分析的时，需要读取事先准备好的数据集，这是做数据分析的第一步。  \n",
    "\n",
    "**`Pandas`提供了多种读取数据的方法：**\n",
    "- `read_csv()` -- 用于读取文本文件\n",
    "- `read_excel()` -- 读取 excel 文件\n",
    "- `read_html()` -- 读取 html 表格\n",
    "- `read_json()` -- 用于读取 json 文件\n",
    "- `read_sql_query()` -- 读取 sql 语句的  \n",
    "\n",
    "接下来我们将介绍一下常用的两个数据读取方法`read_csv()`和`read_excel()`；对于函数参数的解析也是选择一些常用的参数进行解释说明，其他的方法和参数大家有兴趣可以自行学习。  \n",
    "\n",
    "---\n",
    "#### 读取文本文件 (csv/txt)\n",
    "**表达式：**`df = pd.read_csv(filepath_or_buffer, sep =',', header=0, names=[], usecols=[], encoding='', dtype ={} )`\n",
    "- `filepath_or_buffer`: 可以是文件路径、可以是 URL、也可以是实现 read 方法的任意对象。\n",
    ">绝对路径 = 全称；相对路径 = 和程序在同一个文件夹中的路径的简称。\n",
    "- `sep`：读取 csv 文件时指定的分隔符，默认为逗号;\n",
    "- `header`: 用作列名的行号，以及数据的开头；默认为header=0，即使用首行作为列名；\n",
    "- `names`:当 names 没被赋值时，header 会变成 0，即选取数据文件的第一行作为列名；\n",
    "- `usecols`：要读取的列号或列名,如果是类似列表的，则所有元素都必须是位置性的（即文档列中的整数索引）;\n",
    "- `encoding`：表示文件的编码格式，utf-8，gbk。\n",
    "- `dtype`：在读取数据的时候，设定字段的类型。"
   ]
  },
  {
   "cell_type": "code",
   "execution_count": null,
   "id": "f2a55a16",
   "metadata": {},
   "outputs": [],
   "source": []
  },
  {
   "cell_type": "code",
   "execution_count": null,
   "id": "2c46df1d",
   "metadata": {},
   "outputs": [],
   "source": []
  },
  {
   "cell_type": "markdown",
   "id": "503ebdad",
   "metadata": {},
   "source": [
    "#### 读取excel文件\n",
    "\n",
    "**表达式：**`df = pd.read_excel(filepath_or_buffer,sheet_name=0,header=0,names=None,index_col=None,usecols=None,dtype=None )`\n",
    "\n",
    "- `filepath_or_buffer`: 可以是文件路径、可以是 URL、也可以是实现read方法的任意对象；\n",
    "- `sheet_name`：读取excel文件时指定的sheet表；默认为0，表示第一个sheet；\n",
    "- `header`: 表示用第几行作为表头，支持 int, list of int；默认是0，第一行的数据当做表头；\n",
    "- `names`:表示自定义表头的名称，此时需要传递数组参数；\n",
    "- `index_col`：指定列属性为行索引列，支持 int, list of int, 默认是None；\n",
    "- `usecols`：待解析的列，支持 int, str, list-like，默认是 None；\n",
    "- `dtype`：指定列属性的字段类型，支持dict，eg.{“a”: “float64”}；默认为None，也就是不改变数据类型。"
   ]
  },
  {
   "cell_type": "code",
   "execution_count": null,
   "id": "42bae312",
   "metadata": {},
   "outputs": [],
   "source": []
  },
  {
   "cell_type": "code",
   "execution_count": null,
   "id": "de21e3d0",
   "metadata": {},
   "outputs": [],
   "source": []
  },
  {
   "cell_type": "markdown",
   "id": "f50459e7",
   "metadata": {},
   "source": [
    "### 文件输出\n",
    "\n",
    "\n",
    "\n",
    "#### 输出文本文件 (csv/txt)\n",
    "**表达式：**`df = pd.to_csv(filepath_or_buffer, sep=', ’, columns=None, header=True, index=True,mode='w', encoding=None)`\n",
    "- `filepath_or_buffer`: 可以是文件路径、可以是 URL、也可以是实现 read 方法的任意对象。\n",
    "- `sep`：读取 csv 文件时指定的分隔符，默认为逗号;\n",
    "- `header`: 用作列名的行号，以及数据的开头；默认为header=0，即使用首行作为列名；\n",
    "- `names`:当 names 没被赋值时，header 会变成 0，即选取数据文件的第一行作为列名；\n",
    "- `usecols`：要读取的列号或列名,如果是类似列表的，则所有元素都必须是位置性的（即文档列中的整数索引）;\n",
    "- `encoding`：表示文件的编码格式，utf-8，gbk。\n",
    "- `dtype`：在读取数据的时候，设定字段的类型。"
   ]
  },
  {
   "cell_type": "code",
   "execution_count": null,
   "id": "71670b79",
   "metadata": {},
   "outputs": [],
   "source": []
  },
  {
   "cell_type": "code",
   "execution_count": null,
   "id": "1ab6e892",
   "metadata": {},
   "outputs": [],
   "source": []
  },
  {
   "cell_type": "markdown",
   "id": "ab6de731",
   "metadata": {},
   "source": [
    "#### 输出excel文件\n",
    "\n",
    "**表达式：**`df = pd.to_excel(filepath_or_buffer, sheet_name='Sheet1', header=True, index=False)`\n",
    "\n",
    "- `filepath_or_buffer`: 可以是文件路径、可以是 URL、也可以是实现read方法的任意对象；\n",
    "- `sheet_name`：读取excel文件时指定的sheet表；默认为0，表示第一个sheet；\n",
    "- `header`: 表示用第几行作为表头，支持 int, list of int；默认是0，第一行的数据当做表头；\n",
    "- `names`:表示自定义表头的名称，此时需要传递数组参数；\n",
    "- `index_col`：指定列属性为行索引列，支持 int, list of int, 默认是None；\n",
    "- `usecols`：待解析的列，支持 int, str, list-like，默认是 None；\n",
    "- `dtype`：指定列属性的字段类型，支持dict，eg.{“a”: “float64”}；默认为None，也就是不改变数据类型。"
   ]
  },
  {
   "cell_type": "code",
   "execution_count": null,
   "id": "99408c62",
   "metadata": {},
   "outputs": [],
   "source": []
  },
  {
   "cell_type": "code",
   "execution_count": null,
   "id": "bd336462",
   "metadata": {},
   "outputs": [],
   "source": []
  }
 ],
 "metadata": {
  "kernelspec": {
   "display_name": "Python 3 (ipykernel)",
   "language": "python",
   "name": "python3"
  },
  "language_info": {
   "codemirror_mode": {
    "name": "ipython",
    "version": 3
   },
   "file_extension": ".py",
   "mimetype": "text/x-python",
   "name": "python",
   "nbconvert_exporter": "python",
   "pygments_lexer": "ipython3",
   "version": "3.9.7"
  },
  "toc": {
   "base_numbering": 1,
   "nav_menu": {},
   "number_sections": true,
   "sideBar": true,
   "skip_h1_title": false,
   "title_cell": "Table of Contents",
   "title_sidebar": "Contents",
   "toc_cell": false,
   "toc_position": {
    "height": "calc(100% - 180px)",
    "left": "10px",
    "top": "150px",
    "width": "279.803px"
   },
   "toc_section_display": true,
   "toc_window_display": false
  }
 },
 "nbformat": 4,
 "nbformat_minor": 5
}
