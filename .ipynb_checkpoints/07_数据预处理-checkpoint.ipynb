{
 "cells": [
  {
   "cell_type": "markdown",
   "id": "3ee75dc9",
   "metadata": {},
   "source": [
    "# 基于Python的数据分析\n",
    "**工具：**jupyter notebook   **第三方库：**Pandas  \n",
    "  \n",
    "**Pandas简介：**  \n",
    "- Pandas是一个开源的第三方`Python`库，从`Numpy`和`Matplotlib`的基础上构建而来，享有数据分析“三剑客之一”的盛名（`NumPy`、`Matplotlib`、`Pandas`）。\n",
    "- Pandas这个名字来源于面板数据（Panel Data）与数据分析（data analysis）这两个名词的组合；\n",
    "- Pandas 已经成为`Python`数据分析的必备高级工具，它的目标是成为强大、灵活、可以支持任何编程语言的数据分析工具。\n",
    "---\n",
    "## 导入pandas库\n",
    "由于一般都会用到numpy库，所以，我们也一起导入。"
   ]
  },
  {
   "cell_type": "code",
   "execution_count": 1,
   "id": "9e17e590",
   "metadata": {},
   "outputs": [],
   "source": [
    "import pandas as pd  # 导入pandas库\n",
    "import numpy as np   # 导入numpy库"
   ]
  },
  {
   "cell_type": "markdown",
   "id": "0b67cdb3",
   "metadata": {},
   "source": [
    "## 数据预处理\n",
    "**数据预处理**就是对原始数据进行清洗、转换、集成、规范化等处理，提高数据质量和可靠性，减少数据维度，改善数据分布，提高算法的效率和准确性。\n",
    "\n",
    "本文主要介绍**多个数据源/表的合并处理**，**数据分组、分类**，**数据标记**这三种数据\n",
    "预处理的方法；其中不同预处理方法的实现函数如下所示：\n",
    "\n",
    "- 数据合并：df.append()、pd.concat()、pd.merge()\n",
    "- 数据分组：df.groupby()\n",
    "- 数据分类：dtype='category'\n",
    "- 数据标记：np.where()\n"
   ]
  },
  {
   "cell_type": "code",
   "execution_count": null,
   "id": "7caa9545",
   "metadata": {},
   "outputs": [],
   "source": []
  },
  {
   "cell_type": "code",
   "execution_count": null,
   "id": "5433774e",
   "metadata": {},
   "outputs": [],
   "source": []
  },
  {
   "cell_type": "code",
   "execution_count": null,
   "id": "c5485e93",
   "metadata": {},
   "outputs": [],
   "source": []
  },
  {
   "cell_type": "code",
   "execution_count": null,
   "id": "35b44f00",
   "metadata": {},
   "outputs": [],
   "source": []
  }
 ],
 "metadata": {
  "kernelspec": {
   "display_name": "Python 3 (ipykernel)",
   "language": "python",
   "name": "python3"
  },
  "language_info": {
   "codemirror_mode": {
    "name": "ipython",
    "version": 3
   },
   "file_extension": ".py",
   "mimetype": "text/x-python",
   "name": "python",
   "nbconvert_exporter": "python",
   "pygments_lexer": "ipython3",
   "version": "3.9.7"
  },
  "toc": {
   "base_numbering": 1,
   "nav_menu": {},
   "number_sections": true,
   "sideBar": true,
   "skip_h1_title": false,
   "title_cell": "Table of Contents",
   "title_sidebar": "Contents",
   "toc_cell": false,
   "toc_position": {},
   "toc_section_display": true,
   "toc_window_display": false
  }
 },
 "nbformat": 4,
 "nbformat_minor": 5
}
