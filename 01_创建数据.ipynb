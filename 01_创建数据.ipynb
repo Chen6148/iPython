{
 "cells": [
  {
   "cell_type": "markdown",
   "id": "4bd14885",
   "metadata": {},
   "source": [
    "## 基于Python的数据分析\n",
    "**工具：**jupyter notebook   **第三方库：**Pandas  \n",
    "  \n",
    "**Pandas简介：**  \n",
    "- Pandas是一个开源的第三方`Python`库，从`Numpy`和`Matplotlib`的基础上构建而来，享有数据分析“三剑客之一”的盛名（`NumPy`、`Matplotlib`、`Pandas`）。\n",
    "- Pandas这个名字来源于面板数据（Panel Data）与数据分析（data analysis）这两个名词的组合；\n",
    "- Pandas 已经成为`Python`数据分析的必备高级工具，它的目标是成为强大、灵活、可以支持任何编程语言的数据分析工具。\n",
    "---\n",
    "### 导入pandas库\n",
    "由于一般都会用到numpy库，所以，我们也一起导入。"
   ]
  },
  {
   "cell_type": "code",
   "execution_count": 1,
   "id": "007700cd",
   "metadata": {},
   "outputs": [],
   "source": [
    "import pandas as pd  # 导入pandas库\n",
    "import numpy as np   # 导入numpy库"
   ]
  },
  {
   "cell_type": "markdown",
   "id": "8755fb00",
   "metadata": {},
   "source": [
    "### 创建Series数据\n",
    "**Series：**带标签的一维同构数组  \n",
    "**表达式：**```ser = pd.Series(data,index)```\n",
    "- **data：**列表、ndarray、字典或标量值 （标量就是只有大小，没有方向的量）。\n",
    "- **index：**对data的索引值，类似字典的key，index参数是可省略的。\n",
    "\n",
    "#### 使用列表创建Series数据"
   ]
  },
  {
   "cell_type": "code",
   "execution_count": 2,
   "id": "59ae13ee",
   "metadata": {},
   "outputs": [
    {
     "data": {
      "text/plain": [
       "A    1\n",
       "B    2\n",
       "C    3\n",
       "dtype: int64"
      ]
     },
     "metadata": {},
     "output_type": "display_data"
    }
   ],
   "source": [
    "# 使用列表创建Series数据\n",
    "list1 = [1, 2, 3]\n",
    "list2 = ['A', 'B', 'C']\n",
    "\n",
    "ser = pd.Series(list1, list2)\n",
    "display(ser)"
   ]
  },
  {
   "cell_type": "markdown",
   "id": "e0c3f30b",
   "metadata": {},
   "source": [
    "#### 使用ndarray创建Series数据"
   ]
  },
  {
   "cell_type": "code",
   "execution_count": 3,
   "id": "a6e6d351",
   "metadata": {},
   "outputs": [
    {
     "data": {
      "text/plain": [
       "A    1\n",
       "B    2\n",
       "C    3\n",
       "dtype: int64"
      ]
     },
     "metadata": {},
     "output_type": "display_data"
    }
   ],
   "source": [
    "# 使用ndarray创建Series数据\n",
    "arr1 = [1, 2, 3]\n",
    "arr2 = ['A', 'B', 'C']\n",
    "\n",
    "ser = pd.Series(arr1, arr2)\n",
    "display(ser)"
   ]
  },
  {
   "cell_type": "markdown",
   "id": "85f4c6d1",
   "metadata": {},
   "source": [
    "#### 使用字典创建Series数据"
   ]
  },
  {
   "cell_type": "code",
   "execution_count": 4,
   "id": "186079a3",
   "metadata": {},
   "outputs": [
    {
     "data": {
      "text/plain": [
       "A    1\n",
       "B    2\n",
       "C    3\n",
       "dtype: int64"
      ]
     },
     "metadata": {},
     "output_type": "display_data"
    }
   ],
   "source": [
    "# 使用字典创建Series数据\n",
    "dic = {'A':1, 'B':2, 'C':3}\n",
    "\n",
    "ser = pd.Series(dic)\n",
    "display(ser)"
   ]
  },
  {
   "cell_type": "markdown",
   "id": "7457c1bb",
   "metadata": {},
   "source": [
    "#### 使用标量创建Series数据"
   ]
  },
  {
   "cell_type": "code",
   "execution_count": 5,
   "id": "99597bda",
   "metadata": {},
   "outputs": [
    {
     "data": {
      "text/plain": [
       "A    5.0\n",
       "B    5.0\n",
       "C    5.0\n",
       "dtype: float64"
      ]
     },
     "metadata": {},
     "output_type": "display_data"
    }
   ],
   "source": [
    "# 使用字典创建Series数据\n",
    "ser = pd.Series(5.0, index=['A','B','C'])\n",
    "display(ser)"
   ]
  },
  {
   "cell_type": "markdown",
   "id": "f19e245a",
   "metadata": {},
   "source": [
    "### 创建DataFrame数据\n",
    "**DataFrame:**带标签的、大小可变的二维异构表格  \n",
    "**表达式：**```df = pd.DataFrame(data=None, index=None, columns=None)```\n",
    "- **data：**一维列表、ndarray、字典或series ，二维ndarray，dataframe数据。\n",
    "- **index：**对data的行索引值，类似字典的key，index参数若省略，则自动生成。\n",
    "- **columns:**对data的列索引值，类似表格的表头，columns参数若可省略，则自动生成。  \n",
    "\n",
    "#### 使用列表创建DataFrame数据"
   ]
  },
  {
   "cell_type": "code",
   "execution_count": 6,
   "id": "f970099f",
   "metadata": {},
   "outputs": [
    {
     "data": {
      "text/html": [
       "<div>\n",
       "<style scoped>\n",
       "    .dataframe tbody tr th:only-of-type {\n",
       "        vertical-align: middle;\n",
       "    }\n",
       "\n",
       "    .dataframe tbody tr th {\n",
       "        vertical-align: top;\n",
       "    }\n",
       "\n",
       "    .dataframe thead th {\n",
       "        text-align: right;\n",
       "    }\n",
       "</style>\n",
       "<table border=\"1\" class=\"dataframe\">\n",
       "  <thead>\n",
       "    <tr style=\"text-align: right;\">\n",
       "      <th></th>\n",
       "      <th>num1</th>\n",
       "      <th>mum2</th>\n",
       "      <th>num3</th>\n",
       "    </tr>\n",
       "  </thead>\n",
       "  <tbody>\n",
       "    <tr>\n",
       "      <th>A</th>\n",
       "      <td>1</td>\n",
       "      <td>2</td>\n",
       "      <td>3</td>\n",
       "    </tr>\n",
       "    <tr>\n",
       "      <th>B</th>\n",
       "      <td>4</td>\n",
       "      <td>5</td>\n",
       "      <td>6</td>\n",
       "    </tr>\n",
       "    <tr>\n",
       "      <th>C</th>\n",
       "      <td>7</td>\n",
       "      <td>8</td>\n",
       "      <td>9</td>\n",
       "    </tr>\n",
       "  </tbody>\n",
       "</table>\n",
       "</div>"
      ],
      "text/plain": [
       "   num1  mum2  num3\n",
       "A     1     2     3\n",
       "B     4     5     6\n",
       "C     7     8     9"
      ]
     },
     "metadata": {},
     "output_type": "display_data"
    }
   ],
   "source": [
    "# 使用列表创建Series数据\n",
    "list1 = [[1,2,3],[4,5,6],[7,8,9]]\n",
    "\n",
    "df = pd.DataFrame(list1,index=['A','B','C'],columns=['n1','n2','n3'])\n",
    "display(df)"
   ]
  },
  {
   "cell_type": "markdown",
   "id": "84a57e89",
   "metadata": {},
   "source": [
    "#### 使用二维ndarray创建DataFrame数据"
   ]
  },
  {
   "cell_type": "code",
   "execution_count": 7,
   "id": "4d74a2bd",
   "metadata": {},
   "outputs": [
    {
     "data": {
      "text/html": [
       "<div>\n",
       "<style scoped>\n",
       "    .dataframe tbody tr th:only-of-type {\n",
       "        vertical-align: middle;\n",
       "    }\n",
       "\n",
       "    .dataframe tbody tr th {\n",
       "        vertical-align: top;\n",
       "    }\n",
       "\n",
       "    .dataframe thead th {\n",
       "        text-align: right;\n",
       "    }\n",
       "</style>\n",
       "<table border=\"1\" class=\"dataframe\">\n",
       "  <thead>\n",
       "    <tr style=\"text-align: right;\">\n",
       "      <th></th>\n",
       "      <th>num1</th>\n",
       "      <th>mum2</th>\n",
       "      <th>num3</th>\n",
       "    </tr>\n",
       "  </thead>\n",
       "  <tbody>\n",
       "    <tr>\n",
       "      <th>A</th>\n",
       "      <td>1</td>\n",
       "      <td>2</td>\n",
       "      <td>3</td>\n",
       "    </tr>\n",
       "    <tr>\n",
       "      <th>B</th>\n",
       "      <td>4</td>\n",
       "      <td>5</td>\n",
       "      <td>6</td>\n",
       "    </tr>\n",
       "    <tr>\n",
       "      <th>C</th>\n",
       "      <td>7</td>\n",
       "      <td>8</td>\n",
       "      <td>9</td>\n",
       "    </tr>\n",
       "  </tbody>\n",
       "</table>\n",
       "</div>"
      ],
      "text/plain": [
       "   num1  mum2  num3\n",
       "A     1     2     3\n",
       "B     4     5     6\n",
       "C     7     8     9"
      ]
     },
     "metadata": {},
     "output_type": "display_data"
    }
   ],
   "source": [
    "# 使用列表创建Series数据\n",
    "arr1 = np.array([[1,2,3],[4,5,6],[7,8,9]])\n",
    "\n",
    "df = pd.DataFrame(arr1,index=['A','B','C'],columns=['n1','n2','n3'])\n",
    "display(df)"
   ]
  },
  {
   "cell_type": "markdown",
   "id": "e6b40090",
   "metadata": {},
   "source": [
    "#### 使用字典创建DataFrame数据"
   ]
  },
  {
   "cell_type": "code",
   "execution_count": 8,
   "id": "baae1058",
   "metadata": {},
   "outputs": [
    {
     "data": {
      "text/html": [
       "<div>\n",
       "<style scoped>\n",
       "    .dataframe tbody tr th:only-of-type {\n",
       "        vertical-align: middle;\n",
       "    }\n",
       "\n",
       "    .dataframe tbody tr th {\n",
       "        vertical-align: top;\n",
       "    }\n",
       "\n",
       "    .dataframe thead th {\n",
       "        text-align: right;\n",
       "    }\n",
       "</style>\n",
       "<table border=\"1\" class=\"dataframe\">\n",
       "  <thead>\n",
       "    <tr style=\"text-align: right;\">\n",
       "      <th></th>\n",
       "      <th>num1</th>\n",
       "      <th>num2</th>\n",
       "      <th>num3</th>\n",
       "    </tr>\n",
       "  </thead>\n",
       "  <tbody>\n",
       "    <tr>\n",
       "      <th>A</th>\n",
       "      <td>1</td>\n",
       "      <td>4</td>\n",
       "      <td>7</td>\n",
       "    </tr>\n",
       "    <tr>\n",
       "      <th>B</th>\n",
       "      <td>2</td>\n",
       "      <td>5</td>\n",
       "      <td>8</td>\n",
       "    </tr>\n",
       "    <tr>\n",
       "      <th>C</th>\n",
       "      <td>3</td>\n",
       "      <td>6</td>\n",
       "      <td>9</td>\n",
       "    </tr>\n",
       "  </tbody>\n",
       "</table>\n",
       "</div>"
      ],
      "text/plain": [
       "   num1  num2  num3\n",
       "A     1     4     7\n",
       "B     2     5     8\n",
       "C     3     6     9"
      ]
     },
     "metadata": {},
     "output_type": "display_data"
    }
   ],
   "source": [
    "# 使用列表创建Series数据\n",
    "dic = {'num1':[1,2,3], 'num2':[4,5,6], 'num3':[7,8,9]}\n",
    "\n",
    "df = pd.DataFrame(dic, index=['A','B','C'])\n",
    "display(df)"
   ]
  },
  {
   "cell_type": "code",
   "execution_count": null,
   "id": "6b02a02f",
   "metadata": {},
   "outputs": [],
   "source": []
  },
  {
   "cell_type": "code",
   "execution_count": null,
   "id": "1863cabc",
   "metadata": {},
   "outputs": [],
   "source": []
  }
 ],
 "metadata": {
  "kernelspec": {
   "display_name": "Python 3 (ipykernel)",
   "language": "python",
   "name": "python3"
  },
  "language_info": {
   "codemirror_mode": {
    "name": "ipython",
    "version": 3
   },
   "file_extension": ".py",
   "mimetype": "text/x-python",
   "name": "python",
   "nbconvert_exporter": "python",
   "pygments_lexer": "ipython3",
   "version": "3.9.7"
  },
  "toc": {
   "base_numbering": 1,
   "nav_menu": {},
   "number_sections": true,
   "sideBar": true,
   "skip_h1_title": false,
   "title_cell": "Table of Contents",
   "title_sidebar": "Contents",
   "toc_cell": false,
   "toc_position": {
    "height": "calc(100% - 180px)",
    "left": "10px",
    "top": "150px",
    "width": "279.803px"
   },
   "toc_section_display": true,
   "toc_window_display": false
  }
 },
 "nbformat": 4,
 "nbformat_minor": 5
}
