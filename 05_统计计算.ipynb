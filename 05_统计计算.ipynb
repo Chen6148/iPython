{
 "cells": [
  {
   "cell_type": "markdown",
   "id": "4bd14885",
   "metadata": {},
   "source": [
    "# 基于Python的数据分析\n",
    "**工具：**jupyter notebook   **第三方库：**Pandas  \n",
    "  \n",
    "**Pandas简介：**  \n",
    "- Pandas是一个开源的第三方`Python`库，从`Numpy`和`Matplotlib`的基础上构建而来，享有数据分析“三剑客之一”的盛名（`NumPy`、`Matplotlib`、`Pandas`）。\n",
    "- Pandas这个名字来源于面板数据（Panel Data）与数据分析（data analysis）这两个名词的组合；\n",
    "- Pandas 已经成为`Python`数据分析的必备高级工具，它的目标是成为强大、灵活、可以支持任何编程语言的数据分析工具。\n",
    "---\n",
    "## 导入pandas库\n",
    "由于一般都会用到numpy库，所以，我们也一起导入。"
   ]
  },
  {
   "cell_type": "code",
   "execution_count": 1,
   "id": "007700cd",
   "metadata": {},
   "outputs": [],
   "source": [
    "import pandas as pd  # 导入pandas库\n",
    "import numpy as np   # 导入numpy库"
   ]
  },
  {
   "cell_type": "markdown",
   "id": "e1ab7ee7",
   "metadata": {},
   "source": [
    "## 描述统计\n",
    "Pandas的描述统计涉及**函数**`df.describe()`，该函数会返回一个有多行的所有数字列的统计表，每一行对应一个统计指标，分别是：总数、平均数、标准差、最小值、四分位数、最大值等。"
   ]
  },
  {
   "cell_type": "code",
   "execution_count": 2,
   "id": "45e578fb",
   "metadata": {},
   "outputs": [
    {
     "data": {
      "text/html": [
       "<div>\n",
       "<style scoped>\n",
       "    .dataframe tbody tr th:only-of-type {\n",
       "        vertical-align: middle;\n",
       "    }\n",
       "\n",
       "    .dataframe tbody tr th {\n",
       "        vertical-align: top;\n",
       "    }\n",
       "\n",
       "    .dataframe thead th {\n",
       "        text-align: right;\n",
       "    }\n",
       "</style>\n",
       "<table border=\"1\" class=\"dataframe\">\n",
       "  <thead>\n",
       "    <tr style=\"text-align: right;\">\n",
       "      <th></th>\n",
       "      <th>语文</th>\n",
       "      <th>数学</th>\n",
       "      <th>英语</th>\n",
       "      <th>物理</th>\n",
       "      <th>化学</th>\n",
       "      <th>生物</th>\n",
       "    </tr>\n",
       "  </thead>\n",
       "  <tbody>\n",
       "    <tr>\n",
       "      <th>58</th>\n",
       "      <td>63</td>\n",
       "      <td>94</td>\n",
       "      <td>90</td>\n",
       "      <td>82</td>\n",
       "      <td>90</td>\n",
       "      <td>74</td>\n",
       "    </tr>\n",
       "    <tr>\n",
       "      <th>89</th>\n",
       "      <td>64</td>\n",
       "      <td>82</td>\n",
       "      <td>87</td>\n",
       "      <td>81</td>\n",
       "      <td>74</td>\n",
       "      <td>62</td>\n",
       "    </tr>\n",
       "    <tr>\n",
       "      <th>94</th>\n",
       "      <td>85</td>\n",
       "      <td>64</td>\n",
       "      <td>84</td>\n",
       "      <td>81</td>\n",
       "      <td>96</td>\n",
       "      <td>99</td>\n",
       "    </tr>\n",
       "    <tr>\n",
       "      <th>22</th>\n",
       "      <td>66</td>\n",
       "      <td>97</td>\n",
       "      <td>91</td>\n",
       "      <td>75</td>\n",
       "      <td>88</td>\n",
       "      <td>94</td>\n",
       "    </tr>\n",
       "    <tr>\n",
       "      <th>69</th>\n",
       "      <td>90</td>\n",
       "      <td>66</td>\n",
       "      <td>87</td>\n",
       "      <td>73</td>\n",
       "      <td>88</td>\n",
       "      <td>77</td>\n",
       "    </tr>\n",
       "  </tbody>\n",
       "</table>\n",
       "</div>"
      ],
      "text/plain": [
       "    语文  数学  英语  物理  化学  生物\n",
       "58  63  94  90  82  90  74\n",
       "89  64  82  87  81  74  62\n",
       "94  85  64  84  81  96  99\n",
       "22  66  97  91  75  88  94\n",
       "69  90  66  87  73  88  77"
      ]
     },
     "metadata": {},
     "output_type": "display_data"
    },
    {
     "data": {
      "text/html": [
       "<div>\n",
       "<style scoped>\n",
       "    .dataframe tbody tr th:only-of-type {\n",
       "        vertical-align: middle;\n",
       "    }\n",
       "\n",
       "    .dataframe tbody tr th {\n",
       "        vertical-align: top;\n",
       "    }\n",
       "\n",
       "    .dataframe thead th {\n",
       "        text-align: right;\n",
       "    }\n",
       "</style>\n",
       "<table border=\"1\" class=\"dataframe\">\n",
       "  <thead>\n",
       "    <tr style=\"text-align: right;\">\n",
       "      <th></th>\n",
       "      <th>语文</th>\n",
       "      <th>数学</th>\n",
       "      <th>英语</th>\n",
       "      <th>物理</th>\n",
       "      <th>化学</th>\n",
       "      <th>生物</th>\n",
       "    </tr>\n",
       "  </thead>\n",
       "  <tbody>\n",
       "    <tr>\n",
       "      <th>count</th>\n",
       "      <td>100.000000</td>\n",
       "      <td>100.000000</td>\n",
       "      <td>100.000000</td>\n",
       "      <td>100.000000</td>\n",
       "      <td>100.000000</td>\n",
       "      <td>100.000000</td>\n",
       "    </tr>\n",
       "    <tr>\n",
       "      <th>mean</th>\n",
       "      <td>79.850000</td>\n",
       "      <td>80.080000</td>\n",
       "      <td>79.670000</td>\n",
       "      <td>78.400000</td>\n",
       "      <td>80.880000</td>\n",
       "      <td>79.400000</td>\n",
       "    </tr>\n",
       "    <tr>\n",
       "      <th>std</th>\n",
       "      <td>12.033938</td>\n",
       "      <td>11.330374</td>\n",
       "      <td>11.398259</td>\n",
       "      <td>10.209918</td>\n",
       "      <td>11.470894</td>\n",
       "      <td>12.625931</td>\n",
       "    </tr>\n",
       "    <tr>\n",
       "      <th>min</th>\n",
       "      <td>60.000000</td>\n",
       "      <td>60.000000</td>\n",
       "      <td>61.000000</td>\n",
       "      <td>60.000000</td>\n",
       "      <td>60.000000</td>\n",
       "      <td>60.000000</td>\n",
       "    </tr>\n",
       "    <tr>\n",
       "      <th>25%</th>\n",
       "      <td>69.000000</td>\n",
       "      <td>71.500000</td>\n",
       "      <td>70.000000</td>\n",
       "      <td>71.000000</td>\n",
       "      <td>73.000000</td>\n",
       "      <td>65.750000</td>\n",
       "    </tr>\n",
       "    <tr>\n",
       "      <th>50%</th>\n",
       "      <td>79.000000</td>\n",
       "      <td>80.500000</td>\n",
       "      <td>78.000000</td>\n",
       "      <td>77.000000</td>\n",
       "      <td>81.000000</td>\n",
       "      <td>81.000000</td>\n",
       "    </tr>\n",
       "    <tr>\n",
       "      <th>75%</th>\n",
       "      <td>91.250000</td>\n",
       "      <td>89.250000</td>\n",
       "      <td>89.250000</td>\n",
       "      <td>87.000000</td>\n",
       "      <td>91.250000</td>\n",
       "      <td>89.500000</td>\n",
       "    </tr>\n",
       "    <tr>\n",
       "      <th>max</th>\n",
       "      <td>99.000000</td>\n",
       "      <td>98.000000</td>\n",
       "      <td>99.000000</td>\n",
       "      <td>99.000000</td>\n",
       "      <td>99.000000</td>\n",
       "      <td>99.000000</td>\n",
       "    </tr>\n",
       "  </tbody>\n",
       "</table>\n",
       "</div>"
      ],
      "text/plain": [
       "               语文          数学          英语          物理          化学          生物\n",
       "count  100.000000  100.000000  100.000000  100.000000  100.000000  100.000000\n",
       "mean    79.850000   80.080000   79.670000   78.400000   80.880000   79.400000\n",
       "std     12.033938   11.330374   11.398259   10.209918   11.470894   12.625931\n",
       "min     60.000000   60.000000   61.000000   60.000000   60.000000   60.000000\n",
       "25%     69.000000   71.500000   70.000000   71.000000   73.000000   65.750000\n",
       "50%     79.000000   80.500000   78.000000   77.000000   81.000000   81.000000\n",
       "75%     91.250000   89.250000   89.250000   87.000000   91.250000   89.500000\n",
       "max     99.000000   98.000000   99.000000   99.000000   99.000000   99.000000"
      ]
     },
     "execution_count": 2,
     "metadata": {},
     "output_type": "execute_result"
    }
   ],
   "source": [
    "# 生成100个6列[60,100)的随机整数\n",
    "data = np.random.randint(60, 100, [100, 6])\n",
    "df = pd.DataFrame(data=data,index=range(1, 101),\n",
    "    columns=['语文', '数学', '英语','物理','化学','生物'])\n",
    "display(df.sample(5))\n",
    "\n",
    "df.describe()"
   ]
  },
  {
   "cell_type": "markdown",
   "id": "6960701e",
   "metadata": {},
   "source": [
    "## 数学统计\n",
    "Pandas支持常用的数学统计方法，如平均数、相关系数、最大/最小值、中位数、标准差、众数等\n",
    "\n",
    "---\n",
    "### 平均值\n",
    "**函数表达式：**`df.mean()`  \n",
    "`df.mean()`仅对数字类型的列起作用，会忽略文本等其他类型。"
   ]
  },
  {
   "cell_type": "code",
   "execution_count": 3,
   "id": "8fdf8c63",
   "metadata": {},
   "outputs": [
    {
     "data": {
      "text/html": [
       "<div>\n",
       "<style scoped>\n",
       "    .dataframe tbody tr th:only-of-type {\n",
       "        vertical-align: middle;\n",
       "    }\n",
       "\n",
       "    .dataframe tbody tr th {\n",
       "        vertical-align: top;\n",
       "    }\n",
       "\n",
       "    .dataframe thead th {\n",
       "        text-align: right;\n",
       "    }\n",
       "</style>\n",
       "<table border=\"1\" class=\"dataframe\">\n",
       "  <thead>\n",
       "    <tr style=\"text-align: right;\">\n",
       "      <th></th>\n",
       "      <th>语文</th>\n",
       "      <th>数学</th>\n",
       "      <th>英语</th>\n",
       "      <th>物理</th>\n",
       "      <th>化学</th>\n",
       "      <th>生物</th>\n",
       "    </tr>\n",
       "  </thead>\n",
       "  <tbody>\n",
       "    <tr>\n",
       "      <th>12</th>\n",
       "      <td>93</td>\n",
       "      <td>78</td>\n",
       "      <td>60</td>\n",
       "      <td>69</td>\n",
       "      <td>92</td>\n",
       "      <td>62</td>\n",
       "    </tr>\n",
       "    <tr>\n",
       "      <th>66</th>\n",
       "      <td>65</td>\n",
       "      <td>69</td>\n",
       "      <td>96</td>\n",
       "      <td>69</td>\n",
       "      <td>99</td>\n",
       "      <td>72</td>\n",
       "    </tr>\n",
       "    <tr>\n",
       "      <th>7</th>\n",
       "      <td>91</td>\n",
       "      <td>98</td>\n",
       "      <td>74</td>\n",
       "      <td>62</td>\n",
       "      <td>66</td>\n",
       "      <td>65</td>\n",
       "    </tr>\n",
       "    <tr>\n",
       "      <th>67</th>\n",
       "      <td>95</td>\n",
       "      <td>80</td>\n",
       "      <td>84</td>\n",
       "      <td>91</td>\n",
       "      <td>62</td>\n",
       "      <td>73</td>\n",
       "    </tr>\n",
       "    <tr>\n",
       "      <th>98</th>\n",
       "      <td>65</td>\n",
       "      <td>68</td>\n",
       "      <td>78</td>\n",
       "      <td>67</td>\n",
       "      <td>71</td>\n",
       "      <td>87</td>\n",
       "    </tr>\n",
       "  </tbody>\n",
       "</table>\n",
       "</div>"
      ],
      "text/plain": [
       "    语文  数学  英语  物理  化学  生物\n",
       "12  93  78  60  69  92  62\n",
       "66  65  69  96  69  99  72\n",
       "7   91  98  74  62  66  65\n",
       "67  95  80  84  91  62  73\n",
       "98  65  68  78  67  71  87"
      ]
     },
     "metadata": {},
     "output_type": "display_data"
    },
    {
     "data": {
      "text/plain": [
       "语文    78.33\n",
       "数学    78.50\n",
       "英语    80.42\n",
       "物理    78.86\n",
       "化学    78.53\n",
       "生物    80.49\n",
       "dtype: float64"
      ]
     },
     "execution_count": 3,
     "metadata": {},
     "output_type": "execute_result"
    }
   ],
   "source": [
    "# 生成100行3列[60,100)的随机整数\n",
    "data = np.random.randint(60, 100, [100, 6])\n",
    "df = pd.DataFrame(data=data,index=range(1, 101),\n",
    "    columns=['语文', '数学', '英语','物理','化学','生物'])\n",
    "display(df.sample(5))\n",
    "\n",
    "# 计算所有列均值\n",
    "df.mean()"
   ]
  },
  {
   "cell_type": "code",
   "execution_count": 4,
   "id": "d79b52f4",
   "metadata": {},
   "outputs": [
    {
     "name": "stdout",
     "output_type": "stream",
     "text": [
      "78.33\n"
     ]
    }
   ],
   "source": [
    "# 计算单列均值\n",
    "print(df['语文'].mean())"
   ]
  },
  {
   "cell_type": "code",
   "execution_count": 5,
   "id": "d4c3104a",
   "metadata": {},
   "outputs": [
    {
     "data": {
      "text/plain": [
       "1    75.666667\n",
       "2    82.166667\n",
       "3    79.333333\n",
       "4    81.500000\n",
       "5    85.666667\n",
       "dtype: float64"
      ]
     },
     "metadata": {},
     "output_type": "display_data"
    },
    {
     "data": {
      "text/plain": [
       "1    75.666667\n",
       "2    82.166667\n",
       "3    79.333333\n",
       "4    81.500000\n",
       "5    85.666667\n",
       "dtype: float64"
      ]
     },
     "metadata": {},
     "output_type": "display_data"
    },
    {
     "data": {
      "text/plain": [
       "1    75.666667\n",
       "2    82.166667\n",
       "3    79.333333\n",
       "4    81.500000\n",
       "5    85.666667\n",
       "dtype: float64"
      ]
     },
     "metadata": {},
     "output_type": "display_data"
    }
   ],
   "source": [
    "# 计算所有行的均值，下面三种方式效果相同\n",
    "display(df.mean(axis='columns').head())\n",
    "display(df.mean(axis=1).head())\n",
    "display(df.mean(1).head())"
   ]
  },
  {
   "cell_type": "markdown",
   "id": "b279811d",
   "metadata": {},
   "source": [
    "### 求和\n",
    "**函数表达式：**`df.sum()`  "
   ]
  },
  {
   "cell_type": "code",
   "execution_count": 6,
   "id": "7ae70d55",
   "metadata": {},
   "outputs": [
    {
     "data": {
      "text/html": [
       "<div>\n",
       "<style scoped>\n",
       "    .dataframe tbody tr th:only-of-type {\n",
       "        vertical-align: middle;\n",
       "    }\n",
       "\n",
       "    .dataframe tbody tr th {\n",
       "        vertical-align: top;\n",
       "    }\n",
       "\n",
       "    .dataframe thead th {\n",
       "        text-align: right;\n",
       "    }\n",
       "</style>\n",
       "<table border=\"1\" class=\"dataframe\">\n",
       "  <thead>\n",
       "    <tr style=\"text-align: right;\">\n",
       "      <th></th>\n",
       "      <th>语文</th>\n",
       "      <th>数学</th>\n",
       "      <th>英语</th>\n",
       "      <th>物理</th>\n",
       "      <th>化学</th>\n",
       "      <th>生物</th>\n",
       "    </tr>\n",
       "  </thead>\n",
       "  <tbody>\n",
       "    <tr>\n",
       "      <th>68</th>\n",
       "      <td>63</td>\n",
       "      <td>97</td>\n",
       "      <td>95</td>\n",
       "      <td>90</td>\n",
       "      <td>80</td>\n",
       "      <td>77</td>\n",
       "    </tr>\n",
       "    <tr>\n",
       "      <th>10</th>\n",
       "      <td>76</td>\n",
       "      <td>71</td>\n",
       "      <td>95</td>\n",
       "      <td>86</td>\n",
       "      <td>80</td>\n",
       "      <td>72</td>\n",
       "    </tr>\n",
       "    <tr>\n",
       "      <th>12</th>\n",
       "      <td>73</td>\n",
       "      <td>64</td>\n",
       "      <td>91</td>\n",
       "      <td>94</td>\n",
       "      <td>72</td>\n",
       "      <td>82</td>\n",
       "    </tr>\n",
       "    <tr>\n",
       "      <th>58</th>\n",
       "      <td>70</td>\n",
       "      <td>75</td>\n",
       "      <td>97</td>\n",
       "      <td>93</td>\n",
       "      <td>94</td>\n",
       "      <td>96</td>\n",
       "    </tr>\n",
       "    <tr>\n",
       "      <th>77</th>\n",
       "      <td>97</td>\n",
       "      <td>92</td>\n",
       "      <td>93</td>\n",
       "      <td>83</td>\n",
       "      <td>80</td>\n",
       "      <td>68</td>\n",
       "    </tr>\n",
       "  </tbody>\n",
       "</table>\n",
       "</div>"
      ],
      "text/plain": [
       "    语文  数学  英语  物理  化学  生物\n",
       "68  63  97  95  90  80  77\n",
       "10  76  71  95  86  80  72\n",
       "12  73  64  91  94  72  82\n",
       "58  70  75  97  93  94  96\n",
       "77  97  92  93  83  80  68"
      ]
     },
     "metadata": {},
     "output_type": "display_data"
    },
    {
     "data": {
      "text/plain": [
       "语文    7876\n",
       "数学    7859\n",
       "英语    8098\n",
       "物理    7960\n",
       "化学    7917\n",
       "生物    7903\n",
       "dtype: int64"
      ]
     },
     "execution_count": 6,
     "metadata": {},
     "output_type": "execute_result"
    }
   ],
   "source": [
    "# 生成100行3列[60,100)的随机整数\n",
    "data = np.random.randint(60, 100, [100, 6])\n",
    "df = pd.DataFrame(data=data,index=range(1, 101),\n",
    "    columns=['语文', '数学', '英语','物理','化学','生物'])\n",
    "display(df.sample(5))\n",
    "\n",
    "# 计算所有列均值\n",
    "df.sum()"
   ]
  },
  {
   "cell_type": "code",
   "execution_count": 7,
   "id": "a23821dd",
   "metadata": {},
   "outputs": [
    {
     "data": {
      "text/plain": [
       "7876"
      ]
     },
     "execution_count": 7,
     "metadata": {},
     "output_type": "execute_result"
    }
   ],
   "source": [
    "# 计算两列的相关系数\n",
    "df['语文'].sum()"
   ]
  },
  {
   "cell_type": "markdown",
   "id": "a5548c8e",
   "metadata": {},
   "source": [
    "### 相关系数\n",
    "**函数表达式：**`df.corr()`  "
   ]
  },
  {
   "cell_type": "code",
   "execution_count": 8,
   "id": "037a738d",
   "metadata": {},
   "outputs": [
    {
     "data": {
      "text/html": [
       "<div>\n",
       "<style scoped>\n",
       "    .dataframe tbody tr th:only-of-type {\n",
       "        vertical-align: middle;\n",
       "    }\n",
       "\n",
       "    .dataframe tbody tr th {\n",
       "        vertical-align: top;\n",
       "    }\n",
       "\n",
       "    .dataframe thead th {\n",
       "        text-align: right;\n",
       "    }\n",
       "</style>\n",
       "<table border=\"1\" class=\"dataframe\">\n",
       "  <thead>\n",
       "    <tr style=\"text-align: right;\">\n",
       "      <th></th>\n",
       "      <th>语文</th>\n",
       "      <th>数学</th>\n",
       "      <th>英语</th>\n",
       "      <th>物理</th>\n",
       "      <th>化学</th>\n",
       "      <th>生物</th>\n",
       "    </tr>\n",
       "  </thead>\n",
       "  <tbody>\n",
       "    <tr>\n",
       "      <th>41</th>\n",
       "      <td>90</td>\n",
       "      <td>64</td>\n",
       "      <td>80</td>\n",
       "      <td>78</td>\n",
       "      <td>66</td>\n",
       "      <td>76</td>\n",
       "    </tr>\n",
       "    <tr>\n",
       "      <th>56</th>\n",
       "      <td>60</td>\n",
       "      <td>95</td>\n",
       "      <td>61</td>\n",
       "      <td>92</td>\n",
       "      <td>96</td>\n",
       "      <td>71</td>\n",
       "    </tr>\n",
       "    <tr>\n",
       "      <th>13</th>\n",
       "      <td>88</td>\n",
       "      <td>80</td>\n",
       "      <td>70</td>\n",
       "      <td>98</td>\n",
       "      <td>82</td>\n",
       "      <td>98</td>\n",
       "    </tr>\n",
       "    <tr>\n",
       "      <th>69</th>\n",
       "      <td>92</td>\n",
       "      <td>84</td>\n",
       "      <td>71</td>\n",
       "      <td>62</td>\n",
       "      <td>77</td>\n",
       "      <td>82</td>\n",
       "    </tr>\n",
       "    <tr>\n",
       "      <th>68</th>\n",
       "      <td>86</td>\n",
       "      <td>76</td>\n",
       "      <td>91</td>\n",
       "      <td>90</td>\n",
       "      <td>92</td>\n",
       "      <td>69</td>\n",
       "    </tr>\n",
       "  </tbody>\n",
       "</table>\n",
       "</div>"
      ],
      "text/plain": [
       "    语文  数学  英语  物理  化学  生物\n",
       "41  90  64  80  78  66  76\n",
       "56  60  95  61  92  96  71\n",
       "13  88  80  70  98  82  98\n",
       "69  92  84  71  62  77  82\n",
       "68  86  76  91  90  92  69"
      ]
     },
     "metadata": {},
     "output_type": "display_data"
    },
    {
     "data": {
      "text/html": [
       "<div>\n",
       "<style scoped>\n",
       "    .dataframe tbody tr th:only-of-type {\n",
       "        vertical-align: middle;\n",
       "    }\n",
       "\n",
       "    .dataframe tbody tr th {\n",
       "        vertical-align: top;\n",
       "    }\n",
       "\n",
       "    .dataframe thead th {\n",
       "        text-align: right;\n",
       "    }\n",
       "</style>\n",
       "<table border=\"1\" class=\"dataframe\">\n",
       "  <thead>\n",
       "    <tr style=\"text-align: right;\">\n",
       "      <th></th>\n",
       "      <th>语文</th>\n",
       "      <th>数学</th>\n",
       "      <th>英语</th>\n",
       "      <th>物理</th>\n",
       "      <th>化学</th>\n",
       "      <th>生物</th>\n",
       "    </tr>\n",
       "  </thead>\n",
       "  <tbody>\n",
       "    <tr>\n",
       "      <th>语文</th>\n",
       "      <td>1.000000</td>\n",
       "      <td>-0.179610</td>\n",
       "      <td>0.057725</td>\n",
       "      <td>0.016087</td>\n",
       "      <td>-0.124794</td>\n",
       "      <td>0.103902</td>\n",
       "    </tr>\n",
       "    <tr>\n",
       "      <th>数学</th>\n",
       "      <td>-0.179610</td>\n",
       "      <td>1.000000</td>\n",
       "      <td>-0.116835</td>\n",
       "      <td>-0.032331</td>\n",
       "      <td>0.071604</td>\n",
       "      <td>-0.022779</td>\n",
       "    </tr>\n",
       "    <tr>\n",
       "      <th>英语</th>\n",
       "      <td>0.057725</td>\n",
       "      <td>-0.116835</td>\n",
       "      <td>1.000000</td>\n",
       "      <td>0.022093</td>\n",
       "      <td>-0.034431</td>\n",
       "      <td>-0.044477</td>\n",
       "    </tr>\n",
       "    <tr>\n",
       "      <th>物理</th>\n",
       "      <td>0.016087</td>\n",
       "      <td>-0.032331</td>\n",
       "      <td>0.022093</td>\n",
       "      <td>1.000000</td>\n",
       "      <td>-0.025167</td>\n",
       "      <td>0.031820</td>\n",
       "    </tr>\n",
       "    <tr>\n",
       "      <th>化学</th>\n",
       "      <td>-0.124794</td>\n",
       "      <td>0.071604</td>\n",
       "      <td>-0.034431</td>\n",
       "      <td>-0.025167</td>\n",
       "      <td>1.000000</td>\n",
       "      <td>-0.230081</td>\n",
       "    </tr>\n",
       "    <tr>\n",
       "      <th>生物</th>\n",
       "      <td>0.103902</td>\n",
       "      <td>-0.022779</td>\n",
       "      <td>-0.044477</td>\n",
       "      <td>0.031820</td>\n",
       "      <td>-0.230081</td>\n",
       "      <td>1.000000</td>\n",
       "    </tr>\n",
       "  </tbody>\n",
       "</table>\n",
       "</div>"
      ],
      "text/plain": [
       "          语文        数学        英语        物理        化学        生物\n",
       "语文  1.000000 -0.179610  0.057725  0.016087 -0.124794  0.103902\n",
       "数学 -0.179610  1.000000 -0.116835 -0.032331  0.071604 -0.022779\n",
       "英语  0.057725 -0.116835  1.000000  0.022093 -0.034431 -0.044477\n",
       "物理  0.016087 -0.032331  0.022093  1.000000 -0.025167  0.031820\n",
       "化学 -0.124794  0.071604 -0.034431 -0.025167  1.000000 -0.230081\n",
       "生物  0.103902 -0.022779 -0.044477  0.031820 -0.230081  1.000000"
      ]
     },
     "execution_count": 8,
     "metadata": {},
     "output_type": "execute_result"
    }
   ],
   "source": [
    "# 生成100行3列[60,100)的随机整数\n",
    "data = np.random.randint(60, 100, [100, 6])\n",
    "df = pd.DataFrame(data=data,index=range(1, 101),\n",
    "    columns=['语文', '数学', '英语','物理','化学','生物'])\n",
    "display(df.sample(5))\n",
    "\n",
    "# 计算所有列均值\n",
    "df.corr()"
   ]
  },
  {
   "cell_type": "code",
   "execution_count": 9,
   "id": "5abf5113",
   "metadata": {},
   "outputs": [
    {
     "data": {
      "text/plain": [
       "-0.1796104620951131"
      ]
     },
     "execution_count": 9,
     "metadata": {},
     "output_type": "execute_result"
    }
   ],
   "source": [
    "# 计算两列的相关系数\n",
    "df['语文'].corr(df['数学'])"
   ]
  },
  {
   "cell_type": "markdown",
   "id": "e2ad97c3",
   "metadata": {},
   "source": [
    "### 最大值、最小值\n",
    "**函数表达式：**`df.max()`  、`df.min()`"
   ]
  },
  {
   "cell_type": "code",
   "execution_count": 10,
   "id": "c326136f",
   "metadata": {},
   "outputs": [
    {
     "data": {
      "text/html": [
       "<div>\n",
       "<style scoped>\n",
       "    .dataframe tbody tr th:only-of-type {\n",
       "        vertical-align: middle;\n",
       "    }\n",
       "\n",
       "    .dataframe tbody tr th {\n",
       "        vertical-align: top;\n",
       "    }\n",
       "\n",
       "    .dataframe thead th {\n",
       "        text-align: right;\n",
       "    }\n",
       "</style>\n",
       "<table border=\"1\" class=\"dataframe\">\n",
       "  <thead>\n",
       "    <tr style=\"text-align: right;\">\n",
       "      <th></th>\n",
       "      <th>语文</th>\n",
       "      <th>数学</th>\n",
       "      <th>英语</th>\n",
       "      <th>物理</th>\n",
       "      <th>化学</th>\n",
       "      <th>生物</th>\n",
       "    </tr>\n",
       "  </thead>\n",
       "  <tbody>\n",
       "    <tr>\n",
       "      <th>59</th>\n",
       "      <td>72</td>\n",
       "      <td>83</td>\n",
       "      <td>69</td>\n",
       "      <td>61</td>\n",
       "      <td>80</td>\n",
       "      <td>69</td>\n",
       "    </tr>\n",
       "    <tr>\n",
       "      <th>12</th>\n",
       "      <td>89</td>\n",
       "      <td>93</td>\n",
       "      <td>64</td>\n",
       "      <td>90</td>\n",
       "      <td>96</td>\n",
       "      <td>65</td>\n",
       "    </tr>\n",
       "    <tr>\n",
       "      <th>44</th>\n",
       "      <td>91</td>\n",
       "      <td>79</td>\n",
       "      <td>87</td>\n",
       "      <td>84</td>\n",
       "      <td>64</td>\n",
       "      <td>71</td>\n",
       "    </tr>\n",
       "    <tr>\n",
       "      <th>96</th>\n",
       "      <td>70</td>\n",
       "      <td>86</td>\n",
       "      <td>84</td>\n",
       "      <td>67</td>\n",
       "      <td>76</td>\n",
       "      <td>83</td>\n",
       "    </tr>\n",
       "    <tr>\n",
       "      <th>47</th>\n",
       "      <td>87</td>\n",
       "      <td>65</td>\n",
       "      <td>88</td>\n",
       "      <td>92</td>\n",
       "      <td>89</td>\n",
       "      <td>76</td>\n",
       "    </tr>\n",
       "  </tbody>\n",
       "</table>\n",
       "</div>"
      ],
      "text/plain": [
       "    语文  数学  英语  物理  化学  生物\n",
       "59  72  83  69  61  80  69\n",
       "12  89  93  64  90  96  65\n",
       "44  91  79  87  84  64  71\n",
       "96  70  86  84  67  76  83\n",
       "47  87  65  88  92  89  76"
      ]
     },
     "metadata": {},
     "output_type": "display_data"
    },
    {
     "data": {
      "text/plain": [
       "语文    99\n",
       "数学    98\n",
       "英语    99\n",
       "物理    99\n",
       "化学    99\n",
       "生物    98\n",
       "dtype: int32"
      ]
     },
     "metadata": {},
     "output_type": "display_data"
    },
    {
     "data": {
      "text/plain": [
       "语文    60\n",
       "数学    60\n",
       "英语    60\n",
       "物理    60\n",
       "化学    60\n",
       "生物    60\n",
       "dtype: int32"
      ]
     },
     "metadata": {},
     "output_type": "display_data"
    }
   ],
   "source": [
    "# 生成100行3列[60,100)的随机整数\n",
    "data = np.random.randint(60, 100, [100, 6])\n",
    "df = pd.DataFrame(data=data,index=range(1, 101),\n",
    "    columns=['语文', '数学', '英语','物理','化学','生物'])\n",
    "display(df.sample(5))\n",
    "\n",
    "# 计算所有列的最大值、最小值\n",
    "display(df.max())\n",
    "display(df.min())"
   ]
  },
  {
   "cell_type": "code",
   "execution_count": 11,
   "id": "f60aad68",
   "metadata": {},
   "outputs": [
    {
     "data": {
      "text/plain": [
       "99"
      ]
     },
     "metadata": {},
     "output_type": "display_data"
    },
    {
     "data": {
      "text/plain": [
       "60"
      ]
     },
     "metadata": {},
     "output_type": "display_data"
    }
   ],
   "source": [
    "# 计算某一列的最大值、最小值\n",
    "display(df['语文'].max())\n",
    "display(df['数学'].min())"
   ]
  },
  {
   "cell_type": "markdown",
   "id": "6df3e3b3",
   "metadata": {},
   "source": [
    "### 标准差\n",
    "**函数表达式：**`df.std()` "
   ]
  },
  {
   "cell_type": "code",
   "execution_count": 12,
   "id": "adb3b7de",
   "metadata": {},
   "outputs": [
    {
     "data": {
      "text/html": [
       "<div>\n",
       "<style scoped>\n",
       "    .dataframe tbody tr th:only-of-type {\n",
       "        vertical-align: middle;\n",
       "    }\n",
       "\n",
       "    .dataframe tbody tr th {\n",
       "        vertical-align: top;\n",
       "    }\n",
       "\n",
       "    .dataframe thead th {\n",
       "        text-align: right;\n",
       "    }\n",
       "</style>\n",
       "<table border=\"1\" class=\"dataframe\">\n",
       "  <thead>\n",
       "    <tr style=\"text-align: right;\">\n",
       "      <th></th>\n",
       "      <th>语文</th>\n",
       "      <th>数学</th>\n",
       "      <th>英语</th>\n",
       "      <th>物理</th>\n",
       "      <th>化学</th>\n",
       "      <th>生物</th>\n",
       "    </tr>\n",
       "  </thead>\n",
       "  <tbody>\n",
       "    <tr>\n",
       "      <th>11</th>\n",
       "      <td>81</td>\n",
       "      <td>70</td>\n",
       "      <td>66</td>\n",
       "      <td>84</td>\n",
       "      <td>93</td>\n",
       "      <td>75</td>\n",
       "    </tr>\n",
       "    <tr>\n",
       "      <th>93</th>\n",
       "      <td>76</td>\n",
       "      <td>88</td>\n",
       "      <td>61</td>\n",
       "      <td>62</td>\n",
       "      <td>70</td>\n",
       "      <td>88</td>\n",
       "    </tr>\n",
       "    <tr>\n",
       "      <th>51</th>\n",
       "      <td>97</td>\n",
       "      <td>91</td>\n",
       "      <td>75</td>\n",
       "      <td>68</td>\n",
       "      <td>61</td>\n",
       "      <td>96</td>\n",
       "    </tr>\n",
       "    <tr>\n",
       "      <th>15</th>\n",
       "      <td>83</td>\n",
       "      <td>70</td>\n",
       "      <td>66</td>\n",
       "      <td>82</td>\n",
       "      <td>82</td>\n",
       "      <td>68</td>\n",
       "    </tr>\n",
       "    <tr>\n",
       "      <th>44</th>\n",
       "      <td>92</td>\n",
       "      <td>86</td>\n",
       "      <td>91</td>\n",
       "      <td>78</td>\n",
       "      <td>90</td>\n",
       "      <td>87</td>\n",
       "    </tr>\n",
       "  </tbody>\n",
       "</table>\n",
       "</div>"
      ],
      "text/plain": [
       "    语文  数学  英语  物理  化学  生物\n",
       "11  81  70  66  84  93  75\n",
       "93  76  88  61  62  70  88\n",
       "51  97  91  75  68  61  96\n",
       "15  83  70  66  82  82  68\n",
       "44  92  86  91  78  90  87"
      ]
     },
     "metadata": {},
     "output_type": "display_data"
    },
    {
     "data": {
      "text/plain": [
       "语文    11.219657\n",
       "数学    11.377716\n",
       "英语    11.413349\n",
       "物理    11.488576\n",
       "化学    10.855916\n",
       "生物    11.547863\n",
       "dtype: float64"
      ]
     },
     "execution_count": 12,
     "metadata": {},
     "output_type": "execute_result"
    }
   ],
   "source": [
    "# 生成100行3列[60,100)的随机整数\n",
    "data = np.random.randint(60, 100, [100, 6])\n",
    "df = pd.DataFrame(data=data,index=range(1, 101),\n",
    "    columns=['语文', '数学', '英语','物理','化学','生物'])\n",
    "display(df.sample(5))\n",
    "\n",
    "# 计算所有列的标准差\n",
    "df.std()"
   ]
  },
  {
   "cell_type": "markdown",
   "id": "e9a5e473",
   "metadata": {},
   "source": [
    "### 中位数、众数\n",
    "**函数表达式：**`df.median()`  、`df.mode()`"
   ]
  },
  {
   "cell_type": "code",
   "execution_count": 13,
   "id": "a0939fdf",
   "metadata": {},
   "outputs": [
    {
     "data": {
      "text/html": [
       "<div>\n",
       "<style scoped>\n",
       "    .dataframe tbody tr th:only-of-type {\n",
       "        vertical-align: middle;\n",
       "    }\n",
       "\n",
       "    .dataframe tbody tr th {\n",
       "        vertical-align: top;\n",
       "    }\n",
       "\n",
       "    .dataframe thead th {\n",
       "        text-align: right;\n",
       "    }\n",
       "</style>\n",
       "<table border=\"1\" class=\"dataframe\">\n",
       "  <thead>\n",
       "    <tr style=\"text-align: right;\">\n",
       "      <th></th>\n",
       "      <th>语文</th>\n",
       "      <th>数学</th>\n",
       "      <th>英语</th>\n",
       "      <th>物理</th>\n",
       "      <th>化学</th>\n",
       "      <th>生物</th>\n",
       "    </tr>\n",
       "  </thead>\n",
       "  <tbody>\n",
       "    <tr>\n",
       "      <th>28</th>\n",
       "      <td>96</td>\n",
       "      <td>87</td>\n",
       "      <td>87</td>\n",
       "      <td>95</td>\n",
       "      <td>72</td>\n",
       "      <td>89</td>\n",
       "    </tr>\n",
       "    <tr>\n",
       "      <th>1</th>\n",
       "      <td>95</td>\n",
       "      <td>95</td>\n",
       "      <td>92</td>\n",
       "      <td>91</td>\n",
       "      <td>80</td>\n",
       "      <td>71</td>\n",
       "    </tr>\n",
       "    <tr>\n",
       "      <th>64</th>\n",
       "      <td>78</td>\n",
       "      <td>79</td>\n",
       "      <td>63</td>\n",
       "      <td>67</td>\n",
       "      <td>77</td>\n",
       "      <td>93</td>\n",
       "    </tr>\n",
       "    <tr>\n",
       "      <th>49</th>\n",
       "      <td>82</td>\n",
       "      <td>90</td>\n",
       "      <td>90</td>\n",
       "      <td>89</td>\n",
       "      <td>71</td>\n",
       "      <td>97</td>\n",
       "    </tr>\n",
       "    <tr>\n",
       "      <th>85</th>\n",
       "      <td>87</td>\n",
       "      <td>78</td>\n",
       "      <td>61</td>\n",
       "      <td>74</td>\n",
       "      <td>69</td>\n",
       "      <td>97</td>\n",
       "    </tr>\n",
       "  </tbody>\n",
       "</table>\n",
       "</div>"
      ],
      "text/plain": [
       "    语文  数学  英语  物理  化学  生物\n",
       "28  96  87  87  95  72  89\n",
       "1   95  95  92  91  80  71\n",
       "64  78  79  63  67  77  93\n",
       "49  82  90  90  89  71  97\n",
       "85  87  78  61  74  69  97"
      ]
     },
     "metadata": {},
     "output_type": "display_data"
    },
    {
     "data": {
      "text/plain": [
       "语文    77.0\n",
       "数学    79.0\n",
       "英语    80.0\n",
       "物理    79.0\n",
       "化学    78.5\n",
       "生物    80.0\n",
       "dtype: float64"
      ]
     },
     "metadata": {},
     "output_type": "display_data"
    },
    {
     "name": "stdout",
     "output_type": "stream",
     "text": [
      "77.0\n"
     ]
    }
   ],
   "source": [
    "# 生成100行3列[60,100)的随机整数\n",
    "data = np.random.randint(60, 100, [100, 6])\n",
    "df = pd.DataFrame(data=data,index=range(1, 101),\n",
    "    columns=['语文', '数学', '英语','物理','化学','生物'])\n",
    "display(df.sample(5))\n",
    "\n",
    "# 计算所有列的中位数\n",
    "display(df.median())\n",
    "# 计算某一列的中位数\n",
    "print(df['语文'].median())"
   ]
  },
  {
   "cell_type": "code",
   "execution_count": 14,
   "id": "024e840a",
   "metadata": {},
   "outputs": [
    {
     "name": "stdout",
     "output_type": "stream",
     "text": [
      "[95 78 75 69 65 76 89 79 60 63 88 62 76 71 86 62 76 84 68 68 68 71 68 67\n",
      " 91 94 66 96 75 62 91 83 61 88 84 94 88 61 95 71 64 93 91 96 77 82 94 81\n",
      " 82 91 95 68 81 80 73 75 68 60 71 89 72 85 80 78 64 90 63 70 60 95 73 95\n",
      " 72 99 90 77 74 68 86 70 71 69 89 67 87 62 76 77 82 76 91 82 68 93 67 90\n",
      " 75 84 79 86]\n"
     ]
    },
    {
     "data": {
      "text/plain": [
       "0    68\n",
       "dtype: int32"
      ]
     },
     "metadata": {},
     "output_type": "display_data"
    }
   ],
   "source": [
    "# 显示语文这一列的值\n",
    "print(df['语文'].values)\n",
    "\n",
    "# 计算语文列的众数\n",
    "display(df['语文'].mode())"
   ]
  },
  {
   "cell_type": "code",
   "execution_count": null,
   "id": "7e14e63b",
   "metadata": {},
   "outputs": [],
   "source": []
  },
  {
   "cell_type": "code",
   "execution_count": null,
   "id": "06c226ef",
   "metadata": {},
   "outputs": [],
   "source": []
  }
 ],
 "metadata": {
  "kernelspec": {
   "display_name": "Python 3 (ipykernel)",
   "language": "python",
   "name": "python3"
  },
  "language_info": {
   "codemirror_mode": {
    "name": "ipython",
    "version": 3
   },
   "file_extension": ".py",
   "mimetype": "text/x-python",
   "name": "python",
   "nbconvert_exporter": "python",
   "pygments_lexer": "ipython3",
   "version": "3.9.7"
  },
  "toc": {
   "base_numbering": 1,
   "nav_menu": {},
   "number_sections": true,
   "sideBar": true,
   "skip_h1_title": false,
   "title_cell": "Table of Contents",
   "title_sidebar": "Contents",
   "toc_cell": false,
   "toc_position": {
    "height": "calc(100% - 180px)",
    "left": "10px",
    "top": "150px",
    "width": "279.803px"
   },
   "toc_section_display": true,
   "toc_window_display": false
  }
 },
 "nbformat": 4,
 "nbformat_minor": 5
}
