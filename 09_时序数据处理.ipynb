{
 "cells": [
  {
   "cell_type": "markdown",
   "id": "b731c0bc",
   "metadata": {},
   "source": [
    "# 基于Python的数据分析\n",
    "**工具：**jupyter notebook   **第三方库：**Pandas  \n",
    "  \n",
    "**Pandas简介：**  \n",
    "- Pandas是一个开源的第三方`Python`库，从`Numpy`和`Matplotlib`的基础上构建而来，享有数据分析“三剑客之一”的盛名（`NumPy`、`Matplotlib`、`Pandas`）。\n",
    "- Pandas这个名字来源于面板数据（Panel Data）与数据分析（data analysis）这两个名词的组合；\n",
    "- Pandas 已经成为`Python`数据分析的必备高级工具，它的目标是成为强大、灵活、可以支持任何编程语言的数据分析工具。\n",
    "---\n",
    "## 导入pandas库\n",
    "由于一般都会用到numpy库，所以，我们也一起导入。"
   ]
  },
  {
   "cell_type": "code",
   "execution_count": 1,
   "id": "b86f3ad1",
   "metadata": {},
   "outputs": [],
   "source": [
    "import pandas as pd  # 导入pandas库\n",
    "import numpy as np   # 导入numpy库"
   ]
  },
  {
   "cell_type": "markdown",
   "id": "d8b2d630",
   "metadata": {},
   "source": [
    "## 时序数据处理\n",
    "时间序列数据是一类非常重要且常见的数据；每天温度的变化，随着时间推进农作物的生产高度、物理元素的衰变，时刻变化的股票价格等，都会产生时间序列数据。\n",
    ">时间序列（简称，时序）：在一个时间周期范围内，将**随着时间变化的变量**与**时间**形成一个数据序列。\n",
    "\n",
    "在计算机中，经常用时间戳来表示时间，时间戳(Timestamp)是指将1970年01月01日00时00分00秒(格林威治时间)作为起始时间点，截止到当前时间点的总秒数。\n",
    "\n",
    "Pandas中与时间有关的函数都是在Python的datetime的基础上建立的；接下来，将讲解一些常用的时间函数：\n",
    "- 创建**时间点**---`Timestamp()`\n",
    "- 创建**时间差**---`Timedelta()`\n",
    "- 创建**时间索引**---`DatetimeIndex()`\n",
    "- 批量创建时间点---`date_range()`/`bdate_range()`\n",
    "- 时序数据类型转换---`to_datetime`/`astype()`\n",
    "\n",
    "---\n",
    "\n",
    "## 时间点\n",
    "在Pandas中，用于创建时间点的函数有两个分别是：`pd.Timestamp()`和`pd.to_datetime()`\n",
    "\n",
    "### Timestamp函数\n",
    "\n",
    "**1. Timestamp**函数语法格式：`pd.Timestamp(ts_input, tz=None, unit=None, year=None, month=None, day=None, hour,minute,second,microsecond,nanosecond)`\n",
    "- `ts_input` : 表示输入的时间值，数据类型可以是datetime,str,int,float;\n",
    "- `tz` : 指定时区，北京时间的时区是`Asia/Shanghai`;\n",
    "- `unit` : 当时间值是int或float类型，表示输入时间值的单位;\n",
    "    - `int` : 有效值为'D','h','m','s','ms','us','ns'; 'ms'表示毫秒\n",
    "    - `float` : 有效值为'ns'，结果将纳秒为单位存储；\n",
    "- year, month, day : 年、月、日；\n",
    "- hour, minute, second : 时、分、秒，默认为0；\n",
    "- microsecond, nanosecod : 毫秒，纳秒，默认为0；\n",
    "\n",
    "**2. 由于Pandas是以纳秒颗粒度表示时间戳，因此使用`64位整数类型`表示时间跨度大约在584年，即Timestamp函数只能表示1677年-2262年之间的时间**"
   ]
  },
  {
   "cell_type": "code",
   "execution_count": 2,
   "id": "8ddd0505",
   "metadata": {},
   "outputs": [
    {
     "name": "stdout",
     "output_type": "stream",
     "text": [
      "2024-01-17 00:00:00\n"
     ]
    },
    {
     "data": {
      "text/plain": [
       "Timestamp('2024-01-17 00:00:00')"
      ]
     },
     "execution_count": 2,
     "metadata": {},
     "output_type": "execute_result"
    }
   ],
   "source": [
    "# 通过Python的dtetime类型，创建时间点\n",
    "import datetime\n",
    "print(\n",
    "    pd.Timestamp(datetime.datetime(2024, 1, 17))\n",
    ")  # 指定年、月、日\n",
    "\n",
    "pd.Timestamp(datetime.datetime(2024, 1, 17))"
   ]
  },
  {
   "cell_type": "code",
   "execution_count": 3,
   "id": "a63f2b4c",
   "metadata": {},
   "outputs": [
    {
     "name": "stdout",
     "output_type": "stream",
     "text": [
      "2024-01-17 00:00:00\n",
      "2024-01-17 12:12:12\n"
     ]
    }
   ],
   "source": [
    "# 通过时间字符串，创建时间点\n",
    "print(\n",
    "    pd.Timestamp('2024-01-17')\n",
    ")  # 指定年、月、日\n",
    "\n",
    "print(\n",
    "    pd.Timestamp('2024-01-17 12:12:12')\n",
    ")  # 指定时、分、秒"
   ]
  },
  {
   "cell_type": "code",
   "execution_count": 4,
   "id": "65877e79",
   "metadata": {},
   "outputs": [
    {
     "name": "stdout",
     "output_type": "stream",
     "text": [
      "2024-01-17 00:00:00\n",
      "2024-01-17 12:00:00\n"
     ]
    }
   ],
   "source": [
    "# 通过时间位置数字，创建时间点；\n",
    "print(\n",
    "    pd.Timestamp(2024, 1, 17)\n",
    ")  # 指定年、月、日\n",
    "\n",
    "print(\n",
    "    pd.Timestamp(year=2024, month=1, day=17, hour=12)\n",
    ")  # 指定年、月、日、时"
   ]
  },
  {
   "cell_type": "code",
   "execution_count": 5,
   "id": "4871ec1a",
   "metadata": {},
   "outputs": [
    {
     "data": {
      "text/plain": [
       "Timestamp('2023-02-20 14:07:14.266999959+0800', tz='Asia/Shanghai')"
      ]
     },
     "execution_count": 5,
     "metadata": {},
     "output_type": "execute_result"
    }
   ],
   "source": [
    "# 解析时间戳\n",
    "pd.Timestamp(1676873234.267, unit='s',\n",
    "             tz='Asia/Shanghai') # 单位为秒"
   ]
  },
  {
   "cell_type": "markdown",
   "id": "f2875356",
   "metadata": {},
   "source": [
    "### to_datetime函数\n",
    "**1. to_datetime**函数语法格式：`pd.to_datetime(ts_input, errors='raise', format=None, unit=None)`\n",
    "- `ts_input` : 表示输入的时间值，数据类型可以是datetime,str,float,list,tuple,array,Series;\n",
    "- `errors` : 对于错误格式的处理方法\n",
    "    - raise：表示传入数据格式不符合是会报错；\n",
    "    - ignore：表示忽略报错返回原数据；\n",
    "    - coerce：表示用NaT时间空值代替。\n",
    "- `unit` : 表示输入时间数据的单位；\n",
    "- `format` : 自定义时间输出格式，如\"%Y-%m-%d\"。\n",
    "\n",
    "**2. pd.to_datetime()常用于时间数据类型转换；**"
   ]
  },
  {
   "cell_type": "code",
   "execution_count": 6,
   "id": "a47f4e6b",
   "metadata": {},
   "outputs": [
    {
     "data": {
      "text/plain": [
       "Timestamp('2024-01-17 12:12:12')"
      ]
     },
     "execution_count": 6,
     "metadata": {},
     "output_type": "execute_result"
    }
   ],
   "source": [
    "# 使用to_datetime创建时间点\n",
    "pd.to_datetime('2024-01-17 12:12:12')"
   ]
  },
  {
   "cell_type": "markdown",
   "id": "fa50b499",
   "metadata": {},
   "source": [
    "### 时间的属性  \n",
    "每个时间点都包含丰富的时间属性，包含时间的年份、月份、周几，是否月初，在那个季度等；"
   ]
  },
  {
   "cell_type": "code",
   "execution_count": 7,
   "id": "c90f0400",
   "metadata": {},
   "outputs": [
    {
     "name": "stdout",
     "output_type": "stream",
     "text": [
      "2024-01-17 12:13:14 \n",
      "周几（周一为0）： 2 \n",
      "今年第几天： 17 \n",
      "当月天数： 31 \n",
      "时间戳(纳秒)： 1705493594000000000 \n",
      "时间中的“年”： 2024 \n",
      "时间中的“月”： 1 \n",
      "时间中的“日”： 17 \n",
      "时间中的“时”： 12 \n",
      "时间中的“分”： 13 \n",
      "时间中的“秒”： 14\n"
     ]
    }
   ],
   "source": [
    "# 创建时间点\n",
    "time = pd.to_datetime('2024-01-17 12:13:14')\n",
    "\n",
    "# 打印输出常用的时间属性\n",
    "print(time,\n",
    "    '\\n周几（周一为0）：', time.dayofweek,\n",
    "    '\\n今年第几天：', time.dayofyear,\n",
    "    '\\n当月天数：', time.days_in_month,\n",
    "    '\\n时间戳(纳秒)：', time.value,\n",
    "    '\\n时间中的“年”：', time.year,\n",
    "    '\\n时间中的“月”：', time.month,\n",
    "    '\\n时间中的“日”：', time.day,\n",
    "    '\\n时间中的“时”：', time.hour,\n",
    "    '\\n时间中的“分”：', time.minute,\n",
    "    '\\n时间中的“秒”：', time.second,\n",
    ")"
   ]
  },
  {
   "cell_type": "markdown",
   "id": "00ccea86",
   "metadata": {},
   "source": [
    "## 时间差\n",
    "### Timedelta函数\n",
    "**Timedelta**函数语法格式：`pd.Timedelta(value, unit=None, **kwargs)`\n",
    "- `value` : 表示输入时间值，可传入的数据类型：str, int, timedelta\n",
    "- `unit` : 表示输入时间值的单位\n",
    "- `**kwargs` : 可用参数，日、秒、微秒、毫秒、分钟、小时、周。用于构建与 datetime.timedelta 兼容的值。"
   ]
  },
  {
   "cell_type": "code",
   "execution_count": 8,
   "id": "29ab9f81",
   "metadata": {},
   "outputs": [
    {
     "data": {
      "text/plain": [
       "Timedelta('7 days 12:00:00')"
      ]
     },
     "execution_count": 8,
     "metadata": {},
     "output_type": "execute_result"
    }
   ],
   "source": [
    "# 通过格式化字符串，创建时间差\n",
    "pd.Timedelta('7 days 12 hours 0 minutes 0 seconds')"
   ]
  },
  {
   "cell_type": "code",
   "execution_count": 9,
   "id": "efc453e1",
   "metadata": {},
   "outputs": [
    {
     "data": {
      "text/plain": [
       "Timedelta('7 days 12:00:00')"
      ]
     },
     "execution_count": 9,
     "metadata": {},
     "output_type": "execute_result"
    }
   ],
   "source": [
    "# 通过关键字参数 创建时间差\n",
    "pd.Timedelta(weeks=1, hours=12)"
   ]
  },
  {
   "cell_type": "code",
   "execution_count": 10,
   "id": "bd1b8615",
   "metadata": {},
   "outputs": [
    {
     "data": {
      "text/plain": [
       "Timedelta('7 days 12:00:00')"
      ]
     },
     "execution_count": 10,
     "metadata": {},
     "output_type": "execute_result"
    }
   ],
   "source": [
    "# 通过带周期量的偏移量别名\n",
    "pd.Timedelta('7D12H')"
   ]
  },
  {
   "cell_type": "code",
   "execution_count": 11,
   "id": "fe30313e",
   "metadata": {},
   "outputs": [
    {
     "data": {
      "text/plain": [
       "Timedelta('1 days 00:00:00')"
      ]
     },
     "execution_count": 11,
     "metadata": {},
     "output_type": "execute_result"
    }
   ],
   "source": [
    "# 通过带单位的整型数字\n",
    "pd.Timedelta(1, unit='D')"
   ]
  },
  {
   "cell_type": "code",
   "execution_count": 12,
   "id": "6ceae619",
   "metadata": {},
   "outputs": [
    {
     "data": {
      "text/plain": [
       "Timedelta('6 days 12:00:00')"
      ]
     },
     "execution_count": 12,
     "metadata": {},
     "output_type": "execute_result"
    }
   ],
   "source": [
    "# 时间差的加减\n",
    "pd.Timedelta('7D12H') - pd.Timedelta(1, unit='D')"
   ]
  },
  {
   "cell_type": "code",
   "execution_count": 13,
   "id": "8dd5e96f",
   "metadata": {},
   "outputs": [
    {
     "data": {
      "text/plain": [
       "Timedelta('1 days 00:00:00')"
      ]
     },
     "execution_count": 13,
     "metadata": {},
     "output_type": "execute_result"
    }
   ],
   "source": [
    "# 通过时间点，计算时间差\n",
    "pd.Timestamp('2024-01-16') - pd.Timestamp('2024-01-15')"
   ]
  },
  {
   "cell_type": "code",
   "execution_count": 14,
   "id": "bba83457",
   "metadata": {},
   "outputs": [
    {
     "data": {
      "text/plain": [
       "Timestamp('2024-01-11 00:00:00')"
      ]
     },
     "execution_count": 14,
     "metadata": {},
     "output_type": "execute_result"
    }
   ],
   "source": [
    "# 通过时间差，计算时间点\n",
    "pd.Timestamp('2024-01-16') - pd.Timedelta('5 days 00:00:00')"
   ]
  },
  {
   "cell_type": "markdown",
   "id": "8fa9db15",
   "metadata": {},
   "source": [
    "### Timedelta的属性    \n",
    "通过时间差解析出指定时间计数单位的值，比如日、时、分、秒；"
   ]
  },
  {
   "cell_type": "code",
   "execution_count": 15,
   "id": "0a219946",
   "metadata": {},
   "outputs": [
    {
     "name": "stdout",
     "output_type": "stream",
     "text": [
      "10 days 00:09:03 \n",
      "天数： 10 \n",
      "秒数： 543 \n",
      "时间戳(纳秒)： 864543000000000\n"
     ]
    }
   ],
   "source": [
    "# 时间差的属性\n",
    "tdt = pd.Timedelta('10 days 9 min 3 sec')\n",
    "print(tdt,\n",
    "    '\\n天数：', tdt.days,\n",
    "    '\\n秒数：', tdt.seconds,\n",
    "    '\\n时间戳(纳秒)：', tdt.value)"
   ]
  },
  {
   "cell_type": "markdown",
   "id": "c215cf50",
   "metadata": {},
   "source": [
    "## 时间索引\n",
    "在时间序列数据中，索引经常时时间类型；接下来，将介绍如何创建和操作时间类型索引\n",
    "\n",
    "---\n",
    "\n",
    "### 创建时间索引\n",
    "DatetimeIndex是时间索引对象，一般是由to_datetime()、date_range()，或bdate_range()来创建。\n",
    "\n",
    "---\n",
    "\n",
    "#### to_datetime函数\n",
    "**1. to_datetime**函数语法格式：`pd.to_datetime(ts_input, format=None, unit=None)`\n",
    "- `ts_input` : 表示输入的时间值，数据类型可以是datetime,str,float,list,tuple,array,Series;\n",
    "- `format` : 自定义时间输出格式，如\"%Y-%m-%d\";\n",
    "\n",
    "**2. pd.to_datetime()常用于时间数据类型转换；**"
   ]
  },
  {
   "cell_type": "code",
   "execution_count": 16,
   "id": "cedb7071",
   "metadata": {},
   "outputs": [
    {
     "data": {
      "text/plain": [
       "DatetimeIndex(['2024-01-01', '2024-01-02', '2024-01-03', '2024-01-04',\n",
       "               '2024-01-05', '2024-01-06'],\n",
       "              dtype='datetime64[ns]', freq=None)"
      ]
     },
     "execution_count": 16,
     "metadata": {},
     "output_type": "execute_result"
    }
   ],
   "source": [
    "# 通过to_datetime()创建时间索引\n",
    "date_list = ['2024-01-01','2024-01-02','2024-01-03',\n",
    "             '2024-01-04','2024-01-05','2024-01-06']\n",
    "tidx = pd.to_datetime(date_list)\n",
    "tidx"
   ]
  },
  {
   "cell_type": "markdown",
   "id": "b93477cb",
   "metadata": {},
   "source": [
    "#### date_range和bdate_range函数\n",
    "`date_range()`可以输入开始或结束时间，并指定周期、频率，会自动生产此范围内的时间索引数据。\n",
    "\n",
    "**1. date_range**函数语法格式：`pd.date_range(start=None, end=None, periods=None, freq=None, tz=None, unit=None, **kwargs)`\n",
    "- `start`,`end` : 指定开始时间和结束时间，输入数据类型：str或datetime;\n",
    "- `periods` : 指定生成时间序列的数量;\n",
    "- `freq` : 指定生成频率，默认D(天);\n",
    "- `tz` : 指定时区，北京时间的时区是`Asia/Shanghai`;\n",
    "- `unit` : 表示输入时间值的单位；\n",
    "- `**kwargs` : 可用参数，日、秒、微秒、毫秒、分钟、小时、周。用于构建与 datetime.timedelta 兼容的值。\n",
    "\n",
    "在start、end、periods和freq四个参数中，必须指定三个参数\n",
    "\n",
    "**2. pd.bdate_range()生成数据可以跳过周六日，实现工作日的时间索引序列在。**"
   ]
  },
  {
   "cell_type": "code",
   "execution_count": 17,
   "id": "d8fefa6d",
   "metadata": {},
   "outputs": [
    {
     "data": {
      "text/plain": [
       "DatetimeIndex(['2023-01-01', '2023-01-02', '2023-01-03', '2023-01-04',\n",
       "               '2023-01-05', '2023-01-06', '2023-01-07', '2023-01-08',\n",
       "               '2023-01-09', '2023-01-10', '2023-01-11', '2023-01-12'],\n",
       "              dtype='datetime64[ns]', freq='D')"
      ]
     },
     "execution_count": 17,
     "metadata": {},
     "output_type": "execute_result"
    }
   ],
   "source": [
    "# 通过date_range()创建时间索引，涉及参数periods\n",
    "tidx = pd.date_range('2023-01-01',periods=12)\n",
    "tidx"
   ]
  },
  {
   "cell_type": "code",
   "execution_count": 18,
   "id": "82a02281",
   "metadata": {},
   "outputs": [
    {
     "data": {
      "text/plain": [
       "DatetimeIndex(['2023-01-31', '2023-02-28', '2023-03-31', '2023-04-30',\n",
       "               '2023-05-31', '2023-06-30', '2023-07-31', '2023-08-31',\n",
       "               '2023-09-30', '2023-10-31', '2023-11-30'],\n",
       "              dtype='datetime64[ns]', freq='M')"
      ]
     },
     "execution_count": 18,
     "metadata": {},
     "output_type": "execute_result"
    }
   ],
   "source": [
    "# 通过date_range()创建时间索引，涉及参数periods\n",
    "tidx = pd.date_range('2023-01-01','2023-12-01',freq='M')\n",
    "tidx"
   ]
  },
  {
   "cell_type": "code",
   "execution_count": 19,
   "id": "6dc6770f",
   "metadata": {},
   "outputs": [
    {
     "data": {
      "text/plain": [
       "DatetimeIndex(['2023-01-02', '2023-01-03', '2023-01-04', '2023-01-05',\n",
       "               '2023-01-06', '2023-01-09', '2023-01-10', '2023-01-11',\n",
       "               '2023-01-12', '2023-01-13', '2023-01-16', '2023-01-17',\n",
       "               '2023-01-18', '2023-01-19', '2023-01-20', '2023-01-23',\n",
       "               '2023-01-24', '2023-01-25', '2023-01-26', '2023-01-27',\n",
       "               '2023-01-30', '2023-01-31'],\n",
       "              dtype='datetime64[ns]', freq='B')"
      ]
     },
     "execution_count": 19,
     "metadata": {},
     "output_type": "execute_result"
    }
   ],
   "source": [
    "# 通过bdate_range()创建时间索引\n",
    "tidx = pd.bdate_range('2023-01-01','2023-01-31')\n",
    "tidx"
   ]
  },
  {
   "cell_type": "code",
   "execution_count": 20,
   "id": "3c5310ae",
   "metadata": {},
   "outputs": [
    {
     "data": {
      "text/html": [
       "<div>\n",
       "<style scoped>\n",
       "    .dataframe tbody tr th:only-of-type {\n",
       "        vertical-align: middle;\n",
       "    }\n",
       "\n",
       "    .dataframe tbody tr th {\n",
       "        vertical-align: top;\n",
       "    }\n",
       "\n",
       "    .dataframe thead th {\n",
       "        text-align: right;\n",
       "    }\n",
       "</style>\n",
       "<table border=\"1\" class=\"dataframe\">\n",
       "  <thead>\n",
       "    <tr style=\"text-align: right;\">\n",
       "      <th></th>\n",
       "      <th>weather</th>\n",
       "    </tr>\n",
       "  </thead>\n",
       "  <tbody>\n",
       "    <tr>\n",
       "      <th>2023-01-01</th>\n",
       "      <td>晴</td>\n",
       "    </tr>\n",
       "    <tr>\n",
       "      <th>2023-01-02</th>\n",
       "      <td>多云</td>\n",
       "    </tr>\n",
       "    <tr>\n",
       "      <th>2023-01-03</th>\n",
       "      <td>小雨</td>\n",
       "    </tr>\n",
       "    <tr>\n",
       "      <th>2023-01-04</th>\n",
       "      <td>晴</td>\n",
       "    </tr>\n",
       "    <tr>\n",
       "      <th>2023-01-05</th>\n",
       "      <td>阴</td>\n",
       "    </tr>\n",
       "    <tr>\n",
       "      <th>2023-01-06</th>\n",
       "      <td>小雪</td>\n",
       "    </tr>\n",
       "    <tr>\n",
       "      <th>2023-01-07</th>\n",
       "      <td>雪</td>\n",
       "    </tr>\n",
       "  </tbody>\n",
       "</table>\n",
       "</div>"
      ],
      "text/plain": [
       "           weather\n",
       "2023-01-01       晴\n",
       "2023-01-02      多云\n",
       "2023-01-03      小雨\n",
       "2023-01-04       晴\n",
       "2023-01-05       阴\n",
       "2023-01-06      小雪\n",
       "2023-01-07       雪"
      ]
     },
     "execution_count": 20,
     "metadata": {},
     "output_type": "execute_result"
    }
   ],
   "source": [
    "# 创建时序数据\n",
    "tidx = pd.date_range('2023-01-01','2023-01-07')\n",
    "data = ['晴','多云','小雨','晴','阴','小雪','雪']\n",
    "df = pd.DataFrame(data, index=tidx,columns=['weather'])\n",
    "df"
   ]
  },
  {
   "cell_type": "markdown",
   "id": "b6e1f48d",
   "metadata": {},
   "source": [
    "## 时间类型转换\n",
    "由于时间格式的样式比较多样，很多情况下Pandas不能自动的将时序数据识别为时间类型，所以需要对数据进行时间类型转换。\n",
    "\n",
    "Pandas中，时间类型转换的方法主要有两种，分别是astype和to_datetime；"
   ]
  },
  {
   "cell_type": "code",
   "execution_count": 21,
   "id": "4c991a46",
   "metadata": {},
   "outputs": [
    {
     "name": "stdout",
     "output_type": "stream",
     "text": [
      "<class 'pandas.core.frame.DataFrame'>\n",
      "RangeIndex: 7 entries, 0 to 6\n",
      "Data columns (total 2 columns):\n",
      " #   Column     Non-Null Count  Dtype \n",
      "---  ------     --------------  ----- \n",
      " 0   date_time  7 non-null      object\n",
      " 1   weather    7 non-null      object\n",
      "dtypes: object(2)\n",
      "memory usage: 240.0+ bytes\n"
     ]
    },
    {
     "data": {
      "text/plain": [
       "None"
      ]
     },
     "metadata": {},
     "output_type": "display_data"
    },
    {
     "name": "stdout",
     "output_type": "stream",
     "text": [
      "<class 'pandas.core.frame.DataFrame'>\n",
      "RangeIndex: 7 entries, 0 to 6\n",
      "Data columns (total 2 columns):\n",
      " #   Column     Non-Null Count  Dtype         \n",
      "---  ------     --------------  -----         \n",
      " 0   date_time  7 non-null      datetime64[ns]\n",
      " 1   weather    7 non-null      object        \n",
      "dtypes: datetime64[ns](1), object(1)\n",
      "memory usage: 240.0+ bytes\n"
     ]
    }
   ],
   "source": [
    "# 创建时序数据\n",
    "df = pd.DataFrame({\n",
    "        'date_time':['2024-01-01','2024-01-02','2024-01-03',\n",
    "                     '2024-01-04','2024-01-05','2024-01-06','2024-01-07'],\n",
    "        'weather':['晴','多云','小雨','晴','阴','小雪','雪']\n",
    "    })\n",
    "display(df.info())\n",
    "\n",
    "# 通过astype函数进行时间类型转换\n",
    "df['date_time'] = df['date_time'].astype('datetime64[ns]')\n",
    "df.info()"
   ]
  },
  {
   "cell_type": "code",
   "execution_count": 22,
   "id": "21c4e9f6",
   "metadata": {},
   "outputs": [
    {
     "name": "stdout",
     "output_type": "stream",
     "text": [
      "<class 'pandas.core.frame.DataFrame'>\n",
      "RangeIndex: 7 entries, 0 to 6\n",
      "Data columns (total 2 columns):\n",
      " #   Column     Non-Null Count  Dtype \n",
      "---  ------     --------------  ----- \n",
      " 0   date_time  7 non-null      object\n",
      " 1   weather    7 non-null      object\n",
      "dtypes: object(2)\n",
      "memory usage: 240.0+ bytes\n"
     ]
    }
   ],
   "source": [
    "# 通过astype将时间类型转换为字符串\n",
    "df['date_time'] = df['date_time'].astype(object)\n",
    "df.info()"
   ]
  },
  {
   "cell_type": "code",
   "execution_count": 23,
<<<<<<< HEAD
   "id": "30aaeefb",
=======
   "id": "47748f16",
>>>>>>> 299a4f316d654acf7d2419ada4788e1e2ea3f07f
   "metadata": {},
   "outputs": [
    {
     "name": "stdout",
     "output_type": "stream",
     "text": [
      "<class 'pandas.core.frame.DataFrame'>\n",
      "RangeIndex: 7 entries, 0 to 6\n",
      "Data columns (total 2 columns):\n",
      " #   Column     Non-Null Count  Dtype         \n",
      "---  ------     --------------  -----         \n",
      " 0   date_time  7 non-null      datetime64[ns]\n",
      " 1   weather    7 non-null      object        \n",
      "dtypes: datetime64[ns](1), object(1)\n",
      "memory usage: 240.0+ bytes\n"
     ]
    }
   ],
   "source": [
    "# 通过to_datetime函数进行时间类型转换\n",
    "df['date_time'] = pd.to_datetime(df['date_time'])\n",
    "df.info()"
   ]
  },
  {
   "cell_type": "code",
   "execution_count": null,
   "id": "8f870722",
   "metadata": {},
   "outputs": [],
   "source": []
  },
  {
   "cell_type": "code",
   "execution_count": null,
   "id": "6993abe6",
   "metadata": {},
   "outputs": [],
   "source": []
  }
 ],
 "metadata": {
  "kernelspec": {
   "display_name": "Python 3 (ipykernel)",
   "language": "python",
   "name": "python3"
  },
  "language_info": {
   "codemirror_mode": {
    "name": "ipython",
    "version": 3
   },
   "file_extension": ".py",
   "mimetype": "text/x-python",
   "name": "python",
   "nbconvert_exporter": "python",
   "pygments_lexer": "ipython3",
   "version": "3.9.7"
  },
  "toc": {
   "base_numbering": 1,
   "nav_menu": {},
   "number_sections": true,
   "sideBar": true,
   "skip_h1_title": false,
   "title_cell": "Table of Contents",
   "title_sidebar": "Contents",
   "toc_cell": false,
   "toc_position": {},
   "toc_section_display": true,
   "toc_window_display": false
  }
 },
 "nbformat": 4,
 "nbformat_minor": 5
}
